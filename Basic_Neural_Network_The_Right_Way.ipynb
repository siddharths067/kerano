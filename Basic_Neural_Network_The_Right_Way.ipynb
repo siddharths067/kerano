{
  "nbformat": 4,
  "nbformat_minor": 0,
  "metadata": {
    "colab": {
      "name": "Basic Neural Network - The Right Way",
      "version": "0.3.2",
      "provenance": [],
      "collapsed_sections": [],
      "include_colab_link": true
    },
    "kernelspec": {
      "name": "python3",
      "display_name": "Python 3"
    }
  },
  "cells": [
    {
      "cell_type": "markdown",
      "metadata": {
        "id": "view-in-github",
        "colab_type": "text"
      },
      "source": [
        "<a href=\"https://colab.research.google.com/github/siddharths067/kerano/blob/master/Basic_Neural_Network_The_Right_Way.ipynb\" target=\"_parent\"><img src=\"https://colab.research.google.com/assets/colab-badge.svg\" alt=\"Open In Colab\"/></a>"
      ]
    },
    {
      "metadata": {
        "id": "qyTefMNh5-NY",
        "colab_type": "code",
        "colab": {}
      },
      "cell_type": "code",
      "source": [
        "import numpy as np\n",
        "import pandas as pd\n",
        "import matplotlib.pyplot as plt\n",
        "from tensorflow.keras.models import Sequential\n",
        "from tensorflow.keras.layers import Dense,Activation\n",
        "\n",
        "#some bonus content here\n",
        "import matplotlib.pyplot as plt"
      ],
      "execution_count": 0,
      "outputs": []
    },
    {
      "metadata": {
        "id": "helpDm7k7BYF",
        "colab_type": "code",
        "colab": {}
      },
      "cell_type": "code",
      "source": [
        "X = [\n",
        "    [0, 0],\n",
        "    [0, 1],\n",
        "    [1, 0],\n",
        "    [1, 1]\n",
        "]\n",
        "\n",
        "y = [\n",
        "    [0],\n",
        "    [1],\n",
        "    [1],\n",
        "    [0]\n",
        "]"
      ],
      "execution_count": 0,
      "outputs": []
    },
    {
      "metadata": {
        "id": "rBns5fmf7NeE",
        "colab_type": "code",
        "outputId": "d428443f-a3ca-41aa-d344-18b30917e76b",
        "colab": {
          "base_uri": "https://localhost:8080/",
          "height": 34
        }
      },
      "cell_type": "code",
      "source": [
        "print(np.array(X).shape)"
      ],
      "execution_count": 0,
      "outputs": [
        {
          "output_type": "stream",
          "text": [
            "(4, 2)\n"
          ],
          "name": "stdout"
        }
      ]
    },
    {
      "metadata": {
        "id": "LkXLpUIH7Xkk",
        "colab_type": "code",
        "colab": {}
      },
      "cell_type": "code",
      "source": [
        "X = np.array(X)\n",
        "y = np.array(y)"
      ],
      "execution_count": 0,
      "outputs": []
    },
    {
      "metadata": {
        "id": "rKcJpwGv7kdD",
        "colab_type": "code",
        "colab": {}
      },
      "cell_type": "code",
      "source": [
        "model = Sequential()\n",
        "\n",
        "model = Sequential()\n",
        "model.add(Dense(8, activation='tanh', input_dim=2))\n",
        "model.add(Dense(16, activation='relu'))\n",
        "model.add(Dense(32, activation='relu'))\n",
        "model.add(Dense(1, activation='sigmoid'))\n",
        "          \n",
        "model.compile(loss='binary_crossentropy', optimizer='adam', metrics=['accuracy'])"
      ],
      "execution_count": 0,
      "outputs": []
    },
    {
      "metadata": {
        "id": "n-1IAizV80ST",
        "colab_type": "code",
        "outputId": "8481048e-cb74-4151-8484-1e4504a9a093",
        "colab": {
          "base_uri": "https://localhost:8080/",
          "height": 3417
        }
      },
      "cell_type": "code",
      "source": [
        "history = model.fit(X, y, batch_size=1, epochs=100)"
      ],
      "execution_count": 0,
      "outputs": [
        {
          "output_type": "stream",
          "text": [
            "Epoch 1/100\n",
            "4/4 [==============================] - 0s 3ms/sample - loss: 0.0741 - acc: 1.0000\n",
            "Epoch 2/100\n",
            "4/4 [==============================] - 0s 2ms/sample - loss: 0.0707 - acc: 1.0000\n",
            "Epoch 3/100\n",
            "4/4 [==============================] - 0s 2ms/sample - loss: 0.0692 - acc: 1.0000\n",
            "Epoch 4/100\n",
            "4/4 [==============================] - 0s 2ms/sample - loss: 0.0663 - acc: 1.0000\n",
            "Epoch 5/100\n",
            "4/4 [==============================] - 0s 3ms/sample - loss: 0.0646 - acc: 1.0000\n",
            "Epoch 6/100\n",
            "4/4 [==============================] - 0s 3ms/sample - loss: 0.0626 - acc: 1.0000\n",
            "Epoch 7/100\n",
            "4/4 [==============================] - 0s 2ms/sample - loss: 0.0602 - acc: 1.0000\n",
            "Epoch 8/100\n",
            "4/4 [==============================] - 0s 2ms/sample - loss: 0.0585 - acc: 1.0000\n",
            "Epoch 9/100\n",
            "4/4 [==============================] - 0s 2ms/sample - loss: 0.0565 - acc: 1.0000\n",
            "Epoch 10/100\n",
            "4/4 [==============================] - 0s 2ms/sample - loss: 0.0550 - acc: 1.0000\n",
            "Epoch 11/100\n",
            "4/4 [==============================] - 0s 2ms/sample - loss: 0.0532 - acc: 1.0000\n",
            "Epoch 12/100\n",
            "4/4 [==============================] - 0s 2ms/sample - loss: 0.0514 - acc: 1.0000\n",
            "Epoch 13/100\n",
            "4/4 [==============================] - 0s 2ms/sample - loss: 0.0500 - acc: 1.0000\n",
            "Epoch 14/100\n",
            "4/4 [==============================] - 0s 2ms/sample - loss: 0.0483 - acc: 1.0000\n",
            "Epoch 15/100\n",
            "4/4 [==============================] - 0s 2ms/sample - loss: 0.0468 - acc: 1.0000\n",
            "Epoch 16/100\n",
            "4/4 [==============================] - 0s 2ms/sample - loss: 0.0455 - acc: 1.0000\n",
            "Epoch 17/100\n",
            "4/4 [==============================] - 0s 2ms/sample - loss: 0.0442 - acc: 1.0000\n",
            "Epoch 18/100\n",
            "4/4 [==============================] - 0s 3ms/sample - loss: 0.0428 - acc: 1.0000\n",
            "Epoch 19/100\n",
            "4/4 [==============================] - 0s 3ms/sample - loss: 0.0416 - acc: 1.0000\n",
            "Epoch 20/100\n",
            "4/4 [==============================] - 0s 2ms/sample - loss: 0.0404 - acc: 1.0000\n",
            "Epoch 21/100\n",
            "4/4 [==============================] - 0s 3ms/sample - loss: 0.0389 - acc: 1.0000\n",
            "Epoch 22/100\n",
            "4/4 [==============================] - 0s 2ms/sample - loss: 0.0380 - acc: 1.0000\n",
            "Epoch 23/100\n",
            "4/4 [==============================] - 0s 2ms/sample - loss: 0.0370 - acc: 1.0000\n",
            "Epoch 24/100\n",
            "4/4 [==============================] - 0s 2ms/sample - loss: 0.0359 - acc: 1.0000\n",
            "Epoch 25/100\n",
            "4/4 [==============================] - 0s 2ms/sample - loss: 0.0348 - acc: 1.0000\n",
            "Epoch 26/100\n",
            "4/4 [==============================] - 0s 3ms/sample - loss: 0.0340 - acc: 1.0000\n",
            "Epoch 27/100\n",
            "4/4 [==============================] - 0s 3ms/sample - loss: 0.0330 - acc: 1.0000\n",
            "Epoch 28/100\n",
            "4/4 [==============================] - 0s 2ms/sample - loss: 0.0320 - acc: 1.0000\n",
            "Epoch 29/100\n",
            "4/4 [==============================] - 0s 3ms/sample - loss: 0.0312 - acc: 1.0000\n",
            "Epoch 30/100\n",
            "4/4 [==============================] - 0s 2ms/sample - loss: 0.0303 - acc: 1.0000\n",
            "Epoch 31/100\n",
            "4/4 [==============================] - 0s 2ms/sample - loss: 0.0295 - acc: 1.0000\n",
            "Epoch 32/100\n",
            "4/4 [==============================] - 0s 2ms/sample - loss: 0.0288 - acc: 1.0000\n",
            "Epoch 33/100\n",
            "4/4 [==============================] - 0s 2ms/sample - loss: 0.0281 - acc: 1.0000\n",
            "Epoch 34/100\n",
            "4/4 [==============================] - 0s 3ms/sample - loss: 0.0274 - acc: 1.0000\n",
            "Epoch 35/100\n",
            "4/4 [==============================] - 0s 2ms/sample - loss: 0.0265 - acc: 1.0000\n",
            "Epoch 36/100\n",
            "4/4 [==============================] - 0s 2ms/sample - loss: 0.0259 - acc: 1.0000\n",
            "Epoch 37/100\n",
            "4/4 [==============================] - 0s 2ms/sample - loss: 0.0254 - acc: 1.0000\n",
            "Epoch 38/100\n",
            "4/4 [==============================] - 0s 2ms/sample - loss: 0.0246 - acc: 1.0000\n",
            "Epoch 39/100\n",
            "4/4 [==============================] - 0s 2ms/sample - loss: 0.0240 - acc: 1.0000\n",
            "Epoch 40/100\n",
            "4/4 [==============================] - 0s 3ms/sample - loss: 0.0236 - acc: 1.0000\n",
            "Epoch 41/100\n",
            "4/4 [==============================] - 0s 2ms/sample - loss: 0.0230 - acc: 1.0000\n",
            "Epoch 42/100\n",
            "4/4 [==============================] - 0s 3ms/sample - loss: 0.0224 - acc: 1.0000\n",
            "Epoch 43/100\n",
            "4/4 [==============================] - 0s 3ms/sample - loss: 0.0218 - acc: 1.0000\n",
            "Epoch 44/100\n",
            "4/4 [==============================] - 0s 3ms/sample - loss: 0.0212 - acc: 1.0000\n",
            "Epoch 45/100\n",
            "4/4 [==============================] - 0s 2ms/sample - loss: 0.0207 - acc: 1.0000\n",
            "Epoch 46/100\n",
            "4/4 [==============================] - 0s 2ms/sample - loss: 0.0203 - acc: 1.0000\n",
            "Epoch 47/100\n",
            "4/4 [==============================] - 0s 2ms/sample - loss: 0.0199 - acc: 1.0000\n",
            "Epoch 48/100\n",
            "4/4 [==============================] - 0s 2ms/sample - loss: 0.0195 - acc: 1.0000\n",
            "Epoch 49/100\n",
            "4/4 [==============================] - 0s 3ms/sample - loss: 0.0190 - acc: 1.0000\n",
            "Epoch 50/100\n",
            "4/4 [==============================] - 0s 2ms/sample - loss: 0.0185 - acc: 1.0000\n",
            "Epoch 51/100\n",
            "4/4 [==============================] - 0s 3ms/sample - loss: 0.0182 - acc: 1.0000\n",
            "Epoch 52/100\n",
            "4/4 [==============================] - 0s 3ms/sample - loss: 0.0178 - acc: 1.0000\n",
            "Epoch 53/100\n",
            "4/4 [==============================] - 0s 3ms/sample - loss: 0.0173 - acc: 1.0000\n",
            "Epoch 54/100\n",
            "4/4 [==============================] - 0s 3ms/sample - loss: 0.0169 - acc: 1.0000\n",
            "Epoch 55/100\n",
            "4/4 [==============================] - 0s 3ms/sample - loss: 0.0166 - acc: 1.0000\n",
            "Epoch 56/100\n",
            "4/4 [==============================] - 0s 3ms/sample - loss: 0.0163 - acc: 1.0000\n",
            "Epoch 57/100\n",
            "4/4 [==============================] - 0s 2ms/sample - loss: 0.0159 - acc: 1.0000\n",
            "Epoch 58/100\n",
            "4/4 [==============================] - 0s 3ms/sample - loss: 0.0156 - acc: 1.0000\n",
            "Epoch 59/100\n",
            "4/4 [==============================] - 0s 2ms/sample - loss: 0.0153 - acc: 1.0000\n",
            "Epoch 60/100\n",
            "4/4 [==============================] - 0s 2ms/sample - loss: 0.0150 - acc: 1.0000\n",
            "Epoch 61/100\n",
            "4/4 [==============================] - 0s 2ms/sample - loss: 0.0146 - acc: 1.0000\n",
            "Epoch 62/100\n",
            "4/4 [==============================] - 0s 2ms/sample - loss: 0.0144 - acc: 1.0000\n",
            "Epoch 63/100\n",
            "4/4 [==============================] - 0s 2ms/sample - loss: 0.0141 - acc: 1.0000\n",
            "Epoch 64/100\n",
            "4/4 [==============================] - 0s 3ms/sample - loss: 0.0138 - acc: 1.0000\n",
            "Epoch 65/100\n",
            "4/4 [==============================] - 0s 3ms/sample - loss: 0.0135 - acc: 1.0000\n",
            "Epoch 66/100\n",
            "4/4 [==============================] - 0s 3ms/sample - loss: 0.0132 - acc: 1.0000\n",
            "Epoch 67/100\n",
            "4/4 [==============================] - 0s 3ms/sample - loss: 0.0130 - acc: 1.0000\n",
            "Epoch 68/100\n",
            "4/4 [==============================] - 0s 2ms/sample - loss: 0.0127 - acc: 1.0000\n",
            "Epoch 69/100\n",
            "4/4 [==============================] - 0s 3ms/sample - loss: 0.0125 - acc: 1.0000\n",
            "Epoch 70/100\n",
            "4/4 [==============================] - 0s 3ms/sample - loss: 0.0123 - acc: 1.0000\n",
            "Epoch 71/100\n",
            "4/4 [==============================] - 0s 3ms/sample - loss: 0.0120 - acc: 1.0000\n",
            "Epoch 72/100\n",
            "4/4 [==============================] - 0s 2ms/sample - loss: 0.0118 - acc: 1.0000\n",
            "Epoch 73/100\n",
            "4/4 [==============================] - 0s 3ms/sample - loss: 0.0116 - acc: 1.0000\n",
            "Epoch 74/100\n",
            "4/4 [==============================] - 0s 3ms/sample - loss: 0.0113 - acc: 1.0000\n",
            "Epoch 75/100\n",
            "4/4 [==============================] - 0s 2ms/sample - loss: 0.0112 - acc: 1.0000\n",
            "Epoch 76/100\n",
            "4/4 [==============================] - 0s 2ms/sample - loss: 0.0110 - acc: 1.0000\n",
            "Epoch 77/100\n",
            "4/4 [==============================] - 0s 3ms/sample - loss: 0.0108 - acc: 1.0000\n",
            "Epoch 78/100\n",
            "4/4 [==============================] - 0s 3ms/sample - loss: 0.0106 - acc: 1.0000\n",
            "Epoch 79/100\n",
            "4/4 [==============================] - 0s 2ms/sample - loss: 0.0104 - acc: 1.0000\n",
            "Epoch 80/100\n",
            "4/4 [==============================] - 0s 3ms/sample - loss: 0.0102 - acc: 1.0000\n",
            "Epoch 81/100\n",
            "4/4 [==============================] - 0s 2ms/sample - loss: 0.0100 - acc: 1.0000\n",
            "Epoch 82/100\n",
            "4/4 [==============================] - 0s 2ms/sample - loss: 0.0099 - acc: 1.0000\n",
            "Epoch 83/100\n",
            "4/4 [==============================] - 0s 2ms/sample - loss: 0.0097 - acc: 1.0000\n",
            "Epoch 84/100\n",
            "4/4 [==============================] - 0s 3ms/sample - loss: 0.0095 - acc: 1.0000\n",
            "Epoch 85/100\n",
            "4/4 [==============================] - 0s 3ms/sample - loss: 0.0094 - acc: 1.0000\n",
            "Epoch 86/100\n",
            "4/4 [==============================] - 0s 2ms/sample - loss: 0.0092 - acc: 1.0000\n",
            "Epoch 87/100\n",
            "4/4 [==============================] - 0s 3ms/sample - loss: 0.0091 - acc: 1.0000\n",
            "Epoch 88/100\n",
            "4/4 [==============================] - 0s 3ms/sample - loss: 0.0089 - acc: 1.0000\n",
            "Epoch 89/100\n",
            "4/4 [==============================] - 0s 3ms/sample - loss: 0.0088 - acc: 1.0000\n",
            "Epoch 90/100\n",
            "4/4 [==============================] - 0s 2ms/sample - loss: 0.0087 - acc: 1.0000\n",
            "Epoch 91/100\n",
            "4/4 [==============================] - 0s 2ms/sample - loss: 0.0085 - acc: 1.0000\n",
            "Epoch 92/100\n",
            "4/4 [==============================] - 0s 3ms/sample - loss: 0.0084 - acc: 1.0000\n",
            "Epoch 93/100\n",
            "4/4 [==============================] - 0s 3ms/sample - loss: 0.0083 - acc: 1.0000\n",
            "Epoch 94/100\n",
            "4/4 [==============================] - 0s 2ms/sample - loss: 0.0081 - acc: 1.0000\n",
            "Epoch 95/100\n",
            "4/4 [==============================] - 0s 2ms/sample - loss: 0.0080 - acc: 1.0000\n",
            "Epoch 96/100\n",
            "4/4 [==============================] - 0s 3ms/sample - loss: 0.0079 - acc: 1.0000\n",
            "Epoch 97/100\n",
            "4/4 [==============================] - 0s 2ms/sample - loss: 0.0078 - acc: 1.0000\n",
            "Epoch 98/100\n",
            "4/4 [==============================] - 0s 2ms/sample - loss: 0.0076 - acc: 1.0000\n",
            "Epoch 99/100\n",
            "4/4 [==============================] - 0s 3ms/sample - loss: 0.0075 - acc: 1.0000\n",
            "Epoch 100/100\n",
            "4/4 [==============================] - 0s 3ms/sample - loss: 0.0074 - acc: 1.0000\n"
          ],
          "name": "stdout"
        }
      ]
    },
    {
      "metadata": {
        "id": "Gwkn20NQ-s1A",
        "colab_type": "code",
        "colab": {}
      },
      "cell_type": "code",
      "source": [
        ""
      ],
      "execution_count": 0,
      "outputs": []
    },
    {
      "metadata": {
        "id": "7Xcmjhh-9Mez",
        "colab_type": "code",
        "outputId": "86843cba-a8ad-4be9-88b6-58ef32937119",
        "colab": {
          "base_uri": "https://localhost:8080/",
          "height": 85
        }
      },
      "cell_type": "code",
      "source": [
        "print(model.predict(X))"
      ],
      "execution_count": 0,
      "outputs": [
        {
          "output_type": "stream",
          "text": [
            "[[0.01808942]\n",
            " [0.987805  ]\n",
            " [0.91262174]\n",
            " [0.05213881]]\n"
          ],
          "name": "stdout"
        }
      ]
    },
    {
      "metadata": {
        "id": "JIamZpmf-AKL",
        "colab_type": "code",
        "colab": {}
      },
      "cell_type": "code",
      "source": [
        "#history.history['loss']\n",
        "#history.history['acc']"
      ],
      "execution_count": 0,
      "outputs": []
    },
    {
      "metadata": {
        "id": "qLRIitDc_ATy",
        "colab_type": "code",
        "outputId": "5c750a36-0e0c-40dd-e23d-98fe15f0081a",
        "colab": {
          "base_uri": "https://localhost:8080/",
          "height": 347
        }
      },
      "cell_type": "code",
      "source": [
        "fig, ax = plt.subplots(2,1)\n",
        "ax[0].plot(history.history['loss'], color='r', label='Loss Function Value')\n",
        "legend = ax[0].legend(loc='best', shadow=True)\n",
        "\n",
        "\n",
        "ax[1].plot(history.history['acc'], color='b', label='Accuracy Curve')\n",
        "legend = ax[1].legend(loc='best', shadow=True)"
      ],
      "execution_count": 0,
      "outputs": [
        {
          "output_type": "display_data",
          "data": {
            "image/png": "[encoded data removed]",
            "text/plain": [
              "<Figure size 576x396 with 2 Axes>"
            ]
          },
          "metadata": {
            "tags": []
          }
        }
      ]
    },
    {
      "metadata": {
        "id": "QT34azOoFGQv",
        "colab_type": "code",
        "colab": {}
      },
      "cell_type": "code",
      "source": [
        ""
      ],
      "execution_count": 0,
      "outputs": []
    }
  ]
}